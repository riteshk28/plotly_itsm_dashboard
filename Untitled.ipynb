{
 "cells": [
  {
   "cell_type": "code",
   "execution_count": 1,
   "id": "890703bb",
   "metadata": {},
   "outputs": [],
   "source": [
    "import pandas as pd\n",
    "import matplotlib.pyplot as plt\n",
    "from plotly.subplots import make_subplots\n",
    "import plotly.graph_objects as go\n",
    "import plotly.express as px\n",
    "import seaborn as sns"
   ]
  },
  {
   "cell_type": "code",
   "execution_count": 2,
   "id": "f6d478f1",
   "metadata": {},
   "outputs": [
    {
     "name": "stderr",
     "output_type": "stream",
     "text": [
      "C:\\Users\\a833162\\AppData\\Local\\Temp/ipykernel_6364/520709745.py:3: UserWarning: \n",
      "The dash_core_components package is deprecated. Please replace\n",
      "`import dash_core_components as dcc` with `from dash import dcc`\n",
      "  import dash_core_components as dcc\n",
      "C:\\Users\\a833162\\AppData\\Local\\Temp/ipykernel_6364/520709745.py:4: UserWarning: \n",
      "The dash_html_components package is deprecated. Please replace\n",
      "`import dash_html_components as html` with `from dash import html`\n",
      "  import dash_html_components as html\n"
     ]
    }
   ],
   "source": [
    "import os\n",
    "import dash\n",
    "import dash_core_components as dcc\n",
    "import dash_html_components as html"
   ]
  },
  {
   "cell_type": "code",
   "execution_count": 3,
   "id": "f0948871",
   "metadata": {},
   "outputs": [],
   "source": [
    "df = pd.read_csv('incs.csv')"
   ]
  },
  {
   "cell_type": "code",
   "execution_count": 6,
   "id": "96c5de8e",
   "metadata": {},
   "outputs": [
    {
     "data": {
      "text/html": [
       "<div>\n",
       "<style scoped>\n",
       "    .dataframe tbody tr th:only-of-type {\n",
       "        vertical-align: middle;\n",
       "    }\n",
       "\n",
       "    .dataframe tbody tr th {\n",
       "        vertical-align: top;\n",
       "    }\n",
       "\n",
       "    .dataframe thead th {\n",
       "        text-align: right;\n",
       "    }\n",
       "</style>\n",
       "<table border=\"1\" class=\"dataframe\">\n",
       "  <thead>\n",
       "    <tr style=\"text-align: right;\">\n",
       "      <th></th>\n",
       "      <th>Reference Number</th>\n",
       "      <th>description</th>\n",
       "      <th>Assigned to</th>\n",
       "      <th>Assignment Group</th>\n",
       "      <th>Affected Service/CI</th>\n",
       "      <th>Affected Service/CI Category</th>\n",
       "      <th>Affected Service/CI Subcategory</th>\n",
       "      <th>Closed Date</th>\n",
       "      <th>Created</th>\n",
       "      <th>Created by</th>\n",
       "      <th>Task Summary</th>\n",
       "      <th>Closed by</th>\n",
       "      <th>Closure Code</th>\n",
       "      <th>Closure Code 2</th>\n",
       "    </tr>\n",
       "  </thead>\n",
       "  <tbody>\n",
       "    <tr>\n",
       "      <th>0</th>\n",
       "      <td>INC0022325101</td>\n",
       "      <td>Nutanix/Alert / Data At Rest Encryption key ba...</td>\n",
       "      <td>Rohit Gaur</td>\n",
       "      <td>DBSP-INT-NGCS-TIER2-NUTANIX</td>\n",
       "      <td>cdcntxclspr2201.uk.db.com</td>\n",
       "      <td>NaN</td>\n",
       "      <td>NaN</td>\n",
       "      <td>NaN</td>\n",
       "      <td>16 June 2022</td>\n",
       "      <td>zip_interface</td>\n",
       "      <td>NaN</td>\n",
       "      <td>NaN</td>\n",
       "      <td>Hardware</td>\n",
       "      <td>Not Listed</td>\n",
       "    </tr>\n",
       "    <tr>\n",
       "      <th>1</th>\n",
       "      <td>INC0022248860</td>\n",
       "      <td>Status/WinService / Status/WinService / Status...</td>\n",
       "      <td>Prashant Sahane</td>\n",
       "      <td>DBSP-INT-NGCS-TIER2-CITRIX</td>\n",
       "      <td>nj3ctxsfspr0101.us.db.com</td>\n",
       "      <td>NaN</td>\n",
       "      <td>NaN</td>\n",
       "      <td>NaN</td>\n",
       "      <td>04 June 2022</td>\n",
       "      <td>zip_interface</td>\n",
       "      <td>NaN</td>\n",
       "      <td>NaN</td>\n",
       "      <td>No Fault Found</td>\n",
       "      <td>False Alert</td>\n",
       "    </tr>\n",
       "    <tr>\n",
       "      <th>2</th>\n",
       "      <td>INC0022248867</td>\n",
       "      <td>Status/WinService / Status/WinService / Status...</td>\n",
       "      <td>Prashant Sahane</td>\n",
       "      <td>DBSP-INT-NGCS-TIER2-CITRIX</td>\n",
       "      <td>nj3ctxsfspr0101.us.db.com</td>\n",
       "      <td>NaN</td>\n",
       "      <td>NaN</td>\n",
       "      <td>NaN</td>\n",
       "      <td>04 June 2022</td>\n",
       "      <td>zip_interface</td>\n",
       "      <td>NaN</td>\n",
       "      <td>NaN</td>\n",
       "      <td>No Fault Found</td>\n",
       "      <td>False Alert</td>\n",
       "    </tr>\n",
       "    <tr>\n",
       "      <th>3</th>\n",
       "      <td>INC0022248861</td>\n",
       "      <td>Status/WinService / Status/WinService / Status...</td>\n",
       "      <td>Prashant Sahane</td>\n",
       "      <td>DBSP-INT-NGCS-TIER2-CITRIX</td>\n",
       "      <td>nj3ctxsfspr0101.us.db.com</td>\n",
       "      <td>NaN</td>\n",
       "      <td>NaN</td>\n",
       "      <td>NaN</td>\n",
       "      <td>04 June 2022</td>\n",
       "      <td>zip_interface</td>\n",
       "      <td>NaN</td>\n",
       "      <td>NaN</td>\n",
       "      <td>No Fault Found</td>\n",
       "      <td>False Alert</td>\n",
       "    </tr>\n",
       "    <tr>\n",
       "      <th>4</th>\n",
       "      <td>INC0022248862</td>\n",
       "      <td>Status/WinService / Status/WinService / Status...</td>\n",
       "      <td>Prashant Sahane</td>\n",
       "      <td>DBSP-INT-NGCS-TIER2-CITRIX</td>\n",
       "      <td>nj3ctxsfspr0101.us.db.com</td>\n",
       "      <td>NaN</td>\n",
       "      <td>NaN</td>\n",
       "      <td>NaN</td>\n",
       "      <td>04 June 2022</td>\n",
       "      <td>zip_interface</td>\n",
       "      <td>NaN</td>\n",
       "      <td>NaN</td>\n",
       "      <td>No Fault Found</td>\n",
       "      <td>False Alert</td>\n",
       "    </tr>\n",
       "  </tbody>\n",
       "</table>\n",
       "</div>"
      ],
      "text/plain": [
       "  Reference Number                                        description  \\\n",
       "0    INC0022325101  Nutanix/Alert / Data At Rest Encryption key ba...   \n",
       "1    INC0022248860  Status/WinService / Status/WinService / Status...   \n",
       "2    INC0022248867  Status/WinService / Status/WinService / Status...   \n",
       "3    INC0022248861  Status/WinService / Status/WinService / Status...   \n",
       "4    INC0022248862  Status/WinService / Status/WinService / Status...   \n",
       "\n",
       "       Assigned to             Assignment Group        Affected Service/CI  \\\n",
       "0       Rohit Gaur  DBSP-INT-NGCS-TIER2-NUTANIX  cdcntxclspr2201.uk.db.com   \n",
       "1  Prashant Sahane   DBSP-INT-NGCS-TIER2-CITRIX  nj3ctxsfspr0101.us.db.com   \n",
       "2  Prashant Sahane   DBSP-INT-NGCS-TIER2-CITRIX  nj3ctxsfspr0101.us.db.com   \n",
       "3  Prashant Sahane   DBSP-INT-NGCS-TIER2-CITRIX  nj3ctxsfspr0101.us.db.com   \n",
       "4  Prashant Sahane   DBSP-INT-NGCS-TIER2-CITRIX  nj3ctxsfspr0101.us.db.com   \n",
       "\n",
       "   Affected Service/CI Category  Affected Service/CI Subcategory Closed Date  \\\n",
       "0                           NaN                              NaN         NaN   \n",
       "1                           NaN                              NaN         NaN   \n",
       "2                           NaN                              NaN         NaN   \n",
       "3                           NaN                              NaN         NaN   \n",
       "4                           NaN                              NaN         NaN   \n",
       "\n",
       "        Created     Created by  Task Summary Closed by    Closure Code  \\\n",
       "0  16 June 2022  zip_interface           NaN       NaN        Hardware   \n",
       "1  04 June 2022  zip_interface           NaN       NaN  No Fault Found   \n",
       "2  04 June 2022  zip_interface           NaN       NaN  No Fault Found   \n",
       "3  04 June 2022  zip_interface           NaN       NaN  No Fault Found   \n",
       "4  04 June 2022  zip_interface           NaN       NaN  No Fault Found   \n",
       "\n",
       "  Closure Code 2  \n",
       "0     Not Listed  \n",
       "1    False Alert  \n",
       "2    False Alert  \n",
       "3    False Alert  \n",
       "4    False Alert  "
      ]
     },
     "execution_count": 6,
     "metadata": {},
     "output_type": "execute_result"
    }
   ],
   "source": [
    "df.head()"
   ]
  },
  {
   "cell_type": "code",
   "execution_count": 8,
   "id": "ebc4a160",
   "metadata": {},
   "outputs": [],
   "source": [
    "df_pivot = pd.pivot_table(df, values='Reference Number', index='Created',\n",
    "                          aggfunc='count')"
   ]
  },
  {
   "cell_type": "code",
   "execution_count": 9,
   "id": "1694b5a3",
   "metadata": {},
   "outputs": [
    {
     "data": {
      "text/html": [
       "<div>\n",
       "<style scoped>\n",
       "    .dataframe tbody tr th:only-of-type {\n",
       "        vertical-align: middle;\n",
       "    }\n",
       "\n",
       "    .dataframe tbody tr th {\n",
       "        vertical-align: top;\n",
       "    }\n",
       "\n",
       "    .dataframe thead th {\n",
       "        text-align: right;\n",
       "    }\n",
       "</style>\n",
       "<table border=\"1\" class=\"dataframe\">\n",
       "  <thead>\n",
       "    <tr style=\"text-align: right;\">\n",
       "      <th></th>\n",
       "      <th>Reference Number</th>\n",
       "    </tr>\n",
       "    <tr>\n",
       "      <th>Created</th>\n",
       "      <th></th>\n",
       "    </tr>\n",
       "  </thead>\n",
       "  <tbody>\n",
       "    <tr>\n",
       "      <th>01 June 2022</th>\n",
       "      <td>68</td>\n",
       "    </tr>\n",
       "    <tr>\n",
       "      <th>02 June 2022</th>\n",
       "      <td>34</td>\n",
       "    </tr>\n",
       "    <tr>\n",
       "      <th>03 June 2022</th>\n",
       "      <td>43</td>\n",
       "    </tr>\n",
       "    <tr>\n",
       "      <th>04 June 2022</th>\n",
       "      <td>101</td>\n",
       "    </tr>\n",
       "    <tr>\n",
       "      <th>05 June 2022</th>\n",
       "      <td>31</td>\n",
       "    </tr>\n",
       "  </tbody>\n",
       "</table>\n",
       "</div>"
      ],
      "text/plain": [
       "              Reference Number\n",
       "Created                       \n",
       "01 June 2022                68\n",
       "02 June 2022                34\n",
       "03 June 2022                43\n",
       "04 June 2022               101\n",
       "05 June 2022                31"
      ]
     },
     "execution_count": 9,
     "metadata": {},
     "output_type": "execute_result"
    }
   ],
   "source": [
    "df_pivot.head()"
   ]
  },
  {
   "cell_type": "code",
   "execution_count": 10,
   "id": "dccd15a3",
   "metadata": {},
   "outputs": [
    {
     "data": {
      "text/html": [
       "<div>\n",
       "<style scoped>\n",
       "    .dataframe tbody tr th:only-of-type {\n",
       "        vertical-align: middle;\n",
       "    }\n",
       "\n",
       "    .dataframe tbody tr th {\n",
       "        vertical-align: top;\n",
       "    }\n",
       "\n",
       "    .dataframe thead th {\n",
       "        text-align: right;\n",
       "    }\n",
       "</style>\n",
       "<table border=\"1\" class=\"dataframe\">\n",
       "  <thead>\n",
       "    <tr style=\"text-align: right;\">\n",
       "      <th></th>\n",
       "      <th>Reference Number</th>\n",
       "    </tr>\n",
       "    <tr>\n",
       "      <th>Created</th>\n",
       "      <th></th>\n",
       "    </tr>\n",
       "  </thead>\n",
       "  <tbody>\n",
       "    <tr>\n",
       "      <th>01 June 2022</th>\n",
       "      <td>68</td>\n",
       "    </tr>\n",
       "    <tr>\n",
       "      <th>02 June 2022</th>\n",
       "      <td>34</td>\n",
       "    </tr>\n",
       "    <tr>\n",
       "      <th>03 June 2022</th>\n",
       "      <td>43</td>\n",
       "    </tr>\n",
       "    <tr>\n",
       "      <th>04 June 2022</th>\n",
       "      <td>101</td>\n",
       "    </tr>\n",
       "    <tr>\n",
       "      <th>05 June 2022</th>\n",
       "      <td>31</td>\n",
       "    </tr>\n",
       "  </tbody>\n",
       "</table>\n",
       "</div>"
      ],
      "text/plain": [
       "              Reference Number\n",
       "Created                       \n",
       "01 June 2022                68\n",
       "02 June 2022                34\n",
       "03 June 2022                43\n",
       "04 June 2022               101\n",
       "05 June 2022                31"
      ]
     },
     "execution_count": 10,
     "metadata": {},
     "output_type": "execute_result"
    }
   ],
   "source": [
    "df_pivot.sort_values(by='Created', ascending=False)\n",
    "df_pivot.head()"
   ]
  },
  {
   "cell_type": "code",
   "execution_count": 16,
   "id": "18e76914",
   "metadata": {},
   "outputs": [],
   "source": [
    "df_pivot.reset_index(inplace=True)"
   ]
  },
  {
   "cell_type": "code",
   "execution_count": 17,
   "id": "53e89d3e",
   "metadata": {},
   "outputs": [
    {
     "data": {
      "text/plain": [
       "Index(['Created', 'Reference Number'], dtype='object')"
      ]
     },
     "execution_count": 17,
     "metadata": {},
     "output_type": "execute_result"
    }
   ],
   "source": [
    "df_pivot.columns"
   ]
  },
  {
   "cell_type": "code",
   "execution_count": 18,
   "id": "280ca25c",
   "metadata": {},
   "outputs": [],
   "source": [
    "app_name = 'ITSM Dashboard'\n",
    " \n",
    "external_stylesheets = ['https://codepen.io/chriddyp/pen/bWLwgP.css']\n",
    " \n",
    "app = dash.Dash(__name__, external_stylesheets=external_stylesheets)\n",
    "app.title = 'ITSM Dashboard'"
   ]
  },
  {
   "cell_type": "code",
   "execution_count": 19,
   "id": "25a6ef93",
   "metadata": {},
   "outputs": [],
   "source": [
    "trace = px.line(x=df_pivot['Created'], y=df_pivot['Reference Number'])\n",
    " \n",
    "app.layout = html.Div(children=[html.H1(\"CData Extension + Dash\", style={'textAlign': 'center'}),\n",
    "dcc.Graph(\n",
    "id='example-graph',\n",
    "figure={\n",
    "'data': [trace],\n",
    "'layout':\n",
    "go.Layout(title='SuiteCRM Accounts Data', barmode='stack')\n",
    "})\n",
    "], className=\"container\")"
   ]
  },
  {
   "cell_type": "code",
   "execution_count": 20,
   "id": "db15545e",
   "metadata": {},
   "outputs": [
    {
     "name": "stdout",
     "output_type": "stream",
     "text": [
      "Dash is running on http://127.0.0.1:8050/\n",
      "\n",
      "Dash is running on http://127.0.0.1:8050/\n",
      "\n",
      " * Serving Flask app \"__main__\" (lazy loading)\n",
      " * Environment: production\n",
      "\u001b[31m   WARNING: This is a development server. Do not use it in a production deployment.\u001b[0m\n",
      "\u001b[2m   Use a production WSGI server instead.\u001b[0m\n",
      " * Debug mode: on\n"
     ]
    },
    {
     "ename": "SystemExit",
     "evalue": "1",
     "output_type": "error",
     "traceback": [
      "An exception has occurred, use %tb to see the full traceback.\n",
      "\u001b[1;31mSystemExit\u001b[0m\u001b[1;31m:\u001b[0m 1\n"
     ]
    },
    {
     "name": "stderr",
     "output_type": "stream",
     "text": [
      "C:\\Users\\a833162\\Anaconda3\\lib\\site-packages\\IPython\\core\\interactiveshell.py:3452: UserWarning:\n",
      "\n",
      "To exit: use 'exit', 'quit', or Ctrl-D.\n",
      "\n"
     ]
    }
   ],
   "source": [
    "if __name__ == '__main__':\n",
    "    app.run_server(debug=True)"
   ]
  }
 ],
 "metadata": {
  "kernelspec": {
   "display_name": "Python 3 (ipykernel)",
   "language": "python",
   "name": "python3"
  },
  "language_info": {
   "codemirror_mode": {
    "name": "ipython",
    "version": 3
   },
   "file_extension": ".py",
   "mimetype": "text/x-python",
   "name": "python",
   "nbconvert_exporter": "python",
   "pygments_lexer": "ipython3",
   "version": "3.9.7"
  }
 },
 "nbformat": 4,
 "nbformat_minor": 5
}
